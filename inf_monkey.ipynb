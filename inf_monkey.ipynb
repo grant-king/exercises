{
 "cells": [
  {
   "cell_type": "markdown",
   "metadata": {},
   "source": [
    "## infinite monkey theorem\n",
    "The goal is to figure out how long it would take a monkey to type a sensical string, or how long it takes for randomly generated characters to fall into a desired phrase. Base example originally from interactive python textbook at https://runestone.academy/runestone/static/pythonds/index.html\n",
    "\n",
    "#### Simulate with three functions\n",
    "The way we’ll simulate this is to write a function generate_string() that generates a string that is 28 characters long by choosing random letters from the 26 letters in the alphabet plus the space. \n",
    "\n",
    "We’ll write another function that will score each generated string by comparing the randomly generated string to the goal.\n",
    "\n",
    "A third function will repeatedly call generate and score, then if 100% of the letters are correct we are done. If the letters are not correct then we will generate a whole new string.To make it easier to follow the program’s progress this third function will print out the best string generated so far and its score every 1000 tries."
   ]
  },
  {
   "cell_type": "code",
   "execution_count": 1,
   "metadata": {},
   "outputs": [],
   "source": [
    "import random\n",
    "\n",
    "def generate_string(length):\n",
    "    \"\"\"return a string of 'length' random characters, including space\"\"\"\n",
    "    alphabet = list('abcdefghijklmnopqrstuvwxyz ')\n",
    "    string = \"\"\n",
    "    for it in range(length):\n",
    "        string = string + random.choice(alphabet)\n",
    "    return string"
   ]
  },
  {
   "cell_type": "code",
   "execution_count": 2,
   "metadata": {},
   "outputs": [],
   "source": [
    "def score(goal, test_string):\n",
    "    \"\"\"compare two input strings and return decimal value of quotient likeness\"\"\"\n",
    "    #goal = 'methinks it is like a weasel'\n",
    "    num_equal = 0\n",
    "    for i in range(len(goal)):\n",
    "        if goal[i] == test_string[i]:\n",
    "            num_equal += 1\n",
    "    return num_equal / len(goal)"
   ]
  },
  {
   "cell_type": "code",
   "execution_count": 3,
   "metadata": {},
   "outputs": [],
   "source": [
    "def find_words(strings, min_length):\n",
    "    \"\"\"find all english words in input list that meet or exceed min_length\"\"\"\n",
    "    lower_words = generate_wordlist()\n",
    "    made_words = []\n",
    "    for string_item in strings:\n",
    "        #break each string into individual literals, stored in clump_list\n",
    "        clump_list = string_item.split()\n",
    "        for str_literal in clump_list:\n",
    "            #add literal to made_words list if it is an english word and >= min_length\n",
    "            if str_literal.lower() in lower_words and len(str_literal) >= min_length:\n",
    "                made_words.append(str_literal)\n",
    "    return made_words\n",
    "\n",
    "def generate_wordlist():\n",
    "    \"\"\"generate and return set of  all english words for fast searching\"\"\"\n",
    "    #must first download nltk data using nltk.download() copy to terminal \n",
    "    #the very first run to open gui to download required corpus for this function\n",
    "    #located under the corpus tab, 'words' needs to be dl'd\n",
    "    #import nltk\n",
    "    #nltk.download()\n",
    "    from nltk.corpus import words\n",
    "    #list of all english words\n",
    "    word_list = words.words()\n",
    "    #put lowercased words into a set for fast searching\n",
    "    return set(word.strip().lower() for word in word_list)"
   ]
  },
  {
   "cell_type": "code",
   "execution_count": 4,
   "metadata": {},
   "outputs": [
    {
     "name": "stdout",
     "output_type": "stream",
     "text": [
      "Each of the following 10 lists are the english words found among lists of 1000 randomly generated 20 character strings.\n",
      "Example string: wdjryseirdkysaqrzgmm\n",
      "['harn', 'flux', 'tig', 'kex', 'frap']\n",
      "['kil', 'suk', 'ush', 'gul', 'nef']\n",
      "['kyu', 'yat', 'vum']\n",
      "['saxe', 'jug', 'hit', 'ova', 'mon', 'tun', 'tom', 'uro', 'gun', 'kit', 'oda']\n",
      "['galt', 'pom', 'hoju', 'min', 'bor', 'kay', 'now', 'wup', 'das', 'auh']\n",
      "['oes', 'spur', 'ria', 'lid', 'doc', 'ten']\n",
      "['wax', 'vag', 'gib', 'rex', 'our']\n",
      "['ida', 'arad', 'tynd', 'lax']\n",
      "['mes', 'jow', 'loy', 'jan', 'lys', 'wet', 'dor', 'tam', 'pus', 'dar', 'oho']\n",
      "['rue', 'cee', 'gnu', 'kor']\n"
     ]
    }
   ],
   "source": [
    "#create an n-member list consisting of lists nn-members long of random strings, \n",
    "#28 characters each as specified by generate_string()\n",
    "nn = 1000\n",
    "n = 10\n",
    "monkey_strings = [[generate_string(20) for i in range(nn)] for i in range(n)]\n",
    "\n",
    "text = ['Each of the following', \n",
    "         'lists are the english words found among lists of', \n",
    "         'randomly generated', 'character strings.', 'Example string:']\n",
    "print(text[0], len(monkey_strings), text[1], len(monkey_strings[0]), text[2], len(monkey_strings[0][0]), text[3])\n",
    "print(text[4], monkey_strings[0][0])\n",
    "\n",
    "for string_list in monkey_strings:\n",
    "    print(find_words(string_list, 3))"
   ]
  },
  {
   "cell_type": "code",
   "execution_count": 43,
   "metadata": {},
   "outputs": [
    {
     "name": "stdout",
     "output_type": "stream",
     "text": [
      "23490\n",
      "34130\n",
      "34455\n",
      "69549\n",
      "79690\n",
      "108318\n",
      "137884\n",
      "152646\n",
      "171718\n",
      "175723\n"
     ]
    }
   ],
   "source": [
    "scores = [0]\n",
    "phrase = 'methinks it is like a weasel'\n",
    "total_tries = 0\n",
    "scores = [[0] for it in range(10)]\n",
    "\n",
    "#get an idea of how long it takes on average to generate a string similar to goal\n",
    "for i in range(10):\n",
    "    while max(scores[i]) < 0.25:\n",
    "        scores[i].append(score(phrase, generate_string(len(phrase)))) \n",
    "        total_tries += 1\n",
    "    print(total_tries)"
   ]
  },
  {
   "cell_type": "code",
   "execution_count": 45,
   "metadata": {},
   "outputs": [
    {
     "data": {
      "image/png": "[encoded data removed]",
      "text/plain": [
       "<matplotlib.figure.Figure at 0x22861a2d438>"
      ]
     },
     "metadata": {},
     "output_type": "display_data"
    }
   ],
   "source": [
    "import matplotlib.pyplot as plt\n",
    "\n",
    "plt.hist(max(scores))\n",
    "plt.show()"
   ]
  },
  {
   "cell_type": "markdown",
   "metadata": {},
   "source": [
    "## other useful functions"
   ]
  },
  {
   "cell_type": "code",
   "execution_count": 7,
   "metadata": {},
   "outputs": [],
   "source": [
    "def random_list():\n",
    "    from random import randint\n",
    "    \"\"\"return a random list of 10 consecutive words from word list\"\"\"\n",
    "    from nltk.corpus import words\n",
    "    \n",
    "    #create list of all english words\n",
    "    word_list = words.words()\n",
    "    \n",
    "    chunk_start = random.randint(0, len(word_list))\n",
    "    for i in range(chunk_start, chunk_start+10):\n",
    "        print(word_list[i])\n",
    "        chunk = chunk.append(word_list[i])\n",
    "    return chunk"
   ]
  }
 ],
 "metadata": {
  "kernelspec": {
   "display_name": "Python 3",
   "language": "python",
   "name": "python3"
  },
  "language_info": {
   "codemirror_mode": {
    "name": "ipython",
    "version": 3
   },
   "file_extension": ".py",
   "mimetype": "text/x-python",
   "name": "python",
   "nbconvert_exporter": "python",
   "pygments_lexer": "ipython3",
   "version": "3.6.1"
  }
 },
 "nbformat": 4,
 "nbformat_minor": 2
}
