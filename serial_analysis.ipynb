{
 "cells": [
  {
   "cell_type": "markdown",
   "metadata": {},
   "source": [
    "### Serial number analysis"
   ]
  },
  {
   "cell_type": "markdown",
   "metadata": {},
   "source": [
    "#### a note on serial numbers in the form XXX000:\n",
    "With 26 letters in our alphabet there are 26*26*26 = 17576 possible 3 letter codes. Since any three digit number can go with any three digit code there are 17576*1000 = 17,576,000 possible combinations"
   ]
  },
  {
   "cell_type": "markdown",
   "metadata": {},
   "source": [
    "#### Frequentist inference for the problem without a defined range\n",
    "Suppose k = 4 items with serial numbers 19, 40, 42 and 60 are captured. The maximal observed serial number, m = 60. The unknown total number of items is called N."
   ]
  },
  {
   "cell_type": "code",
   "execution_count": 1,
   "metadata": {},
   "outputs": [],
   "source": [
    "SERIAL_NUMBERS = [19, 40, 42, 60]"
   ]
  },
  {
   "cell_type": "markdown",
   "metadata": {},
   "source": [
    "#### The formula for estimating the total number of tanks suggested by the frequentist approach outlined below"
   ]
  },
  {
   "cell_type": "code",
   "execution_count": 2,
   "metadata": {},
   "outputs": [],
   "source": [
    "m = max(SERIAL_NUMBERS)\n",
    "k = len(SERIAL_NUMBERS)\n",
    "N = m + (m/k) - 1"
   ]
  },
  {
   "cell_type": "code",
   "execution_count": 3,
   "metadata": {},
   "outputs": [
    {
     "data": {
      "text/plain": [
       "74.0"
      ]
     },
     "execution_count": 3,
     "metadata": {},
     "output_type": "execute_result"
    }
   ],
   "source": [
    "N"
   ]
  },
  {
   "cell_type": "markdown",
   "metadata": {},
   "source": [
    "#### Bayesian analysis with defined range, yielding the probabiloity mass function"
   ]
  },
  {
   "cell_type": "markdown",
   "metadata": {},
   "source": [
    "![formula](https://wikimedia.org/api/rest_v1/media/math/render/svg/2827e32220bbc9b2a543fc6c80a85d6e7e795a4f)\n",
    "\n",
    "![formula](https://wikimedia.org/api/rest_v1/media/math/render/svg/455f083202869e5eb5a6ff2f6f08d8ea8179639e)"
   ]
  },
  {
   "cell_type": "code",
   "execution_count": 4,
   "metadata": {},
   "outputs": [],
   "source": [
    "import math\n",
    "mean = (m - 1)*((k-1)/(k-2))\n",
    "std = math.sqrt(((k-1)*(m-1)*(m-k+1))/(((k-3)*(k-2))**2))\n",
    "N_max = mean + std\n",
    "N_min = mean - std"
   ]
  },
  {
   "cell_type": "code",
   "execution_count": 5,
   "metadata": {},
   "outputs": [
    {
     "name": "stdout",
     "output_type": "stream",
     "text": [
      "138.72200712834962 38.27799287165038\n"
     ]
    }
   ],
   "source": [
    "print(N_max, N_min)"
   ]
  },
  {
   "cell_type": "code",
   "execution_count": 16,
   "metadata": {},
   "outputs": [],
   "source": [
    "import numpy as np\n",
    "\n",
    "p_vals = []\n",
    "n_vals = np.linspace(m, N_max, num=20)\n",
    "for n in n_vals:\n",
    "    p_vals.append(1-((k-1)/k)*(((m-1)/(k-1))/(n/k)))"
   ]
  },
  {
   "cell_type": "code",
   "execution_count": 26,
   "metadata": {},
   "outputs": [
    {
     "data": {
      "image/png": "[encoded data removed]",
      "text/plain": [
       "<matplotlib.figure.Figure at 0x209154a0c18>"
      ]
     },
     "metadata": {},
     "output_type": "display_data"
    }
   ],
   "source": [
    "import matplotlib.pyplot as plt\n",
    "plt.plot(p_vals, n_vals)\n",
    "plt.xlabel('likelyhood that quantity is maximum produced')\n",
    "plt.ylabel('quantity produced')\n",
    "\n",
    "plt.show()"
   ]
  },
  {
   "cell_type": "code",
   "execution_count": null,
   "metadata": {},
   "outputs": [],
   "source": [
    "def calc_pdf(serial_nums):\n",
    "    import math\n",
    "    import numpy as np\n",
    "\n",
    "    \n",
    "    m = max(SERIAL_NUMBERS)\n",
    "    k = len(SERIAL_NUMBERS)\n",
    "    \n",
    "    mean = (m - 1)*((k-1)/(k-2))\n",
    "    std = math.sqrt(((k-1)*(m-1)*(m-k+1))/(((k-3)*(k-2))**2))\n",
    "    N_max = mean + std\n",
    "    N_min = mean - std    \n",
    "\n",
    "    p_vals = []\n",
    "    n_vals = np.linspace(m, N_max, num=20)\n",
    "    for n in n_vals:\n",
    "        p_vals.append(1-((k-1)/k)*(((m-1)/(k-1))/(n/k)))\n",
    "    return(p_vals, n_vals)\n",
    "        "
   ]
  },
  {
   "cell_type": "code",
   "execution_count": null,
   "metadata": {},
   "outputs": [],
   "source": [
    "\n",
    "plt.plot(p_vals, n_vals)\n",
    "plt.xlabel('likelyhood that quantity is maximum produced')\n",
    "plt.ylabel('quantity produced')"
   ]
  }
 ],
 "metadata": {
  "kernelspec": {
   "display_name": "Python 3",
   "language": "python",
   "name": "python3"
  },
  "language_info": {
   "codemirror_mode": {
    "name": "ipython",
    "version": 3
   },
   "file_extension": ".py",
   "mimetype": "text/x-python",
   "name": "python",
   "nbconvert_exporter": "python",
   "pygments_lexer": "ipython3",
   "version": "3.6.1"
  }
 },
 "nbformat": 4,
 "nbformat_minor": 2
}
