{
 "cells": [
  {
   "cell_type": "markdown",
   "metadata": {},
   "source": [
    "Briefly describe a possible collection of classes which can be used to represent a music collection (for example, inside a music player), focusing on how they would be related by composition. You should include classes for songs, artists, albums and playlists. Hint: write down the four class names, draw a line between each pair of classes which you think should have a relationship, and decide what kind of relationship would be the most appropriate.\n",
    "\n",
    "For simplicity you can assume that any song or album has a single “artist” value (which could represent more than one person), but you should include compilation albums (which contain songs by a selection of different artists). The “artist” of a compilation album can be a special value like “Various Artists”. You can also assume that each song is associated with a single album, but that multiple copies of the same song (which are included in different albums) can exist.\n",
    "\n",
    "Write a simple implementation of this model which clearly shows how the different classes are composed. Write some example code to show how you would use your classes to create an album and add all its songs to a playlist. Hint: if two objects are related to each other bidirectionally, you will have to decide how this link should be formed – one of the objects will have to be created before the other, so you can’t link them to each other in both directions simultaneously!"
   ]
  },
  {
   "cell_type": "markdown",
   "metadata": {},
   "source": [
    "<img src=\"https://docs.google.com/drawings/d/e/2PACX-1vR9Tcx0D98oqHeXCqzOsLCPbfPR0QBzDE0_worONPz6R2O9k0tXZhrhO5Ru_fpgxQ_GzZnJ_DcU_dUN/pub?w=1020&amp;h=587\">"
   ]
  },
  {
   "cell_type": "code",
   "execution_count": null,
   "metadata": {},
   "outputs": [],
   "source": [
    "class Album:\n",
    "    \n",
    "    def __init__(self, title, artist, song_list):\n",
    "        self.title = title\n",
    "        self.artist = artist\n",
    "        self.song_list = song_list\n",
    "        self.record = []\n",
    "        for track in song_list:\n",
    "            self.record.append(Song(track)) \n",
    "        \n",
    "    def iget_track(self, track_num):\n",
    "        #get track name by passed index\n",
    "        track_index = track_num - 1 \n",
    "        return self.record[track_index]\n",
    "    \n",
    "    def get_tracks():\n",
    "        self.title = str(new_title)\n",
    "    \n",
    "    def print_songs(self, title):\n",
    "        pass\n",
    "    \n",
    "    def print_song_title(self, track_number):\n",
    "        print(self.song_list[track_number-1])\n",
    "\n",
    "\n",
    "    "
   ]
  },
  {
   "cell_type": "code",
   "execution_count": null,
   "metadata": {},
   "outputs": [],
   "source": [
    "class Song:\n",
    "    def __init__(self, song_title):\n",
    "        self.title = song_title\n",
    "        "
   ]
  },
  {
   "cell_type": "code",
   "execution_count": null,
   "metadata": {},
   "outputs": [],
   "source": [
    "class Artist:\n",
    "    pass"
   ]
  },
  {
   "cell_type": "code",
   "execution_count": null,
   "metadata": {},
   "outputs": [],
   "source": [
    "class Playlist:\n",
    "    pass"
   ]
  }
 ],
 "metadata": {
  "kernelspec": {
   "display_name": "Python 3",
   "language": "python",
   "name": "python3"
  },
  "language_info": {
   "codemirror_mode": {
    "name": "ipython",
    "version": 3
   },
   "file_extension": ".py",
   "mimetype": "text/x-python",
   "name": "python",
   "nbconvert_exporter": "python",
   "pygments_lexer": "ipython3",
   "version": "3.6.1"
  }
 },
 "nbformat": 4,
 "nbformat_minor": 2
}
